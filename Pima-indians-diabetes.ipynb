{
 "cells": [
  {
   "cell_type": "code",
   "execution_count": 16,
   "metadata": {},
   "outputs": [],
   "source": [
    "import logistic_regression as lgr\n",
    "import dataprep as dp"
   ]
  },
  {
   "cell_type": "code",
   "execution_count": 17,
   "metadata": {},
   "outputs": [],
   "source": [
    "dataset = dp.csv_2_list('dataset/pima-indians-diabetes.csv', ',')"
   ]
  },
  {
   "cell_type": "code",
   "execution_count": 18,
   "metadata": {},
   "outputs": [],
   "source": [
    "for k in range(len(dataset[0])):\n",
    "    dataset = dp.str_2_float(dataset, k)"
   ]
  },
  {
   "cell_type": "code",
   "execution_count": 19,
   "metadata": {},
   "outputs": [],
   "source": [
    "dp.normalize_data(dataset)"
   ]
  },
  {
   "cell_type": "code",
   "execution_count": 5,
   "metadata": {},
   "outputs": [
    {
     "name": "stdout",
     "output_type": "stream",
     "text": [
      "[70.58823529411765, 79.08496732026144, 79.73856209150327, 73.20261437908496, 80.3921568627451]\n",
      "76.60130718954248\n"
     ]
    }
   ],
   "source": [
    "n_folds = 5\n",
    "l_rate = 0.1\n",
    "n_epoch = 100\n",
    "scores = lgr.evaluate_algorithm(dataset, lgr.logistic_regression_sgd, n_folds, l_rate, n_epoch)\n",
    "print(scores)\n",
    "print(sum(scores)/float(len(scores)))"
   ]
  },
  {
   "cell_type": "code",
   "execution_count": 6,
   "metadata": {},
   "outputs": [],
   "source": [
    "#n_folds = 5\n",
    "#l_rate = [0.01, 0.05, 0.1, 0.5] \n",
    "#n_epoch = 100\n",
    "#scores = [lgr.evaluate_algorithm(dataset, lgr.logistic_regression_sgd, n_folds, l_rate[k], n_epoch) for k in range(len(l_rate))]\n",
    "#accuracy = [sum(scores[k])/float(len(scores[k])) for k in range(len(scores))]"
   ]
  },
  {
   "cell_type": "code",
   "execution_count": 7,
   "metadata": {},
   "outputs": [],
   "source": [
    "#plt.scatter(l_rate, accuracy)"
   ]
  },
  {
   "cell_type": "code",
   "execution_count": 20,
   "metadata": {},
   "outputs": [],
   "source": [
    "dataset_2 = dp.polynomial_2(dataset)"
   ]
  },
  {
   "cell_type": "code",
   "execution_count": 21,
   "metadata": {},
   "outputs": [
    {
     "name": "stdout",
     "output_type": "stream",
     "text": [
      "[75.390625, 76.953125, 77.734375]\n",
      "76.69270833333333\n"
     ]
    }
   ],
   "source": [
    "n_folds = 3\n",
    "l_rate = 0.1\n",
    "n_epoch = 50\n",
    "scores = lgr.evaluate_algorithm(dataset_2, lgr.logistic_regression_sgd, n_folds, l_rate, n_epoch)\n",
    "print(scores)\n",
    "print(sum(scores)/float(len(scores)))"
   ]
  }
 ],
 "metadata": {
  "kernelspec": {
   "display_name": "Python 3",
   "language": "python",
   "name": "python3"
  },
  "language_info": {
   "codemirror_mode": {
    "name": "ipython",
    "version": 3
   },
   "file_extension": ".py",
   "mimetype": "text/x-python",
   "name": "python",
   "nbconvert_exporter": "python",
   "pygments_lexer": "ipython3",
   "version": "3.7.3"
  }
 },
 "nbformat": 4,
 "nbformat_minor": 2
}
